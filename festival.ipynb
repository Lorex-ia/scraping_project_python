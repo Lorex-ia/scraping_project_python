{
 "cells": [
  {
   "cell_type": "code",
   "execution_count": 1,
   "id": "f448ef34",
   "metadata": {},
   "outputs": [],
   "source": [
    "import numpy as np\n",
    "import pandas as pd\n",
    "import seaborn as sns\n",
    "import matplotlib as plt\n",
    "import json\n",
    "%matplotlib inline"
   ]
  },
  {
   "cell_type": "code",
   "execution_count": 2,
   "id": "5895f679",
   "metadata": {},
   "outputs": [],
   "source": [
    "df = pd.read_json(\"festival.json\", encoding=\"utf-8\")"
   ]
  },
  {
   "cell_type": "code",
   "execution_count": 3,
   "id": "0c4beb16",
   "metadata": {},
   "outputs": [
    {
     "data": {
      "text/html": [
       "<div>\n",
       "<style scoped>\n",
       "    .dataframe tbody tr th:only-of-type {\n",
       "        vertical-align: middle;\n",
       "    }\n",
       "\n",
       "    .dataframe tbody tr th {\n",
       "        vertical-align: top;\n",
       "    }\n",
       "\n",
       "    .dataframe thead th {\n",
       "        text-align: right;\n",
       "    }\n",
       "</style>\n",
       "<table border=\"1\" class=\"dataframe\">\n",
       "  <thead>\n",
       "    <tr style=\"text-align: right;\">\n",
       "      <th></th>\n",
       "      <th>datasetid</th>\n",
       "      <th>recordid</th>\n",
       "      <th>fields</th>\n",
       "      <th>geometry</th>\n",
       "      <th>record_timestamp</th>\n",
       "    </tr>\n",
       "  </thead>\n",
       "  <tbody>\n",
       "    <tr>\n",
       "      <th>0</th>\n",
       "      <td>panorama-des-festivals</td>\n",
       "      <td>f303af5d382cd97c89f233ae9fa84d8f72a7d0c2</td>\n",
       "      <td>{'dept_sk': 13.0, 'coordonnees_insee': [43.550...</td>\n",
       "      <td>{'type': 'Point', 'coordinates': [4.9511813524...</td>\n",
       "      <td>2019-07-25T13:57:37.191+02:00</td>\n",
       "    </tr>\n",
       "    <tr>\n",
       "      <th>1</th>\n",
       "      <td>panorama-des-festivals</td>\n",
       "      <td>1572da817b780e088c1e81f8da01b5ee16767879</td>\n",
       "      <td>{'dept_sk': 13.0, 'coordonnees_insee': [43.299...</td>\n",
       "      <td>{'type': 'Point', 'coordinates': [5.3822786979...</td>\n",
       "      <td>2019-07-25T13:57:37.191+02:00</td>\n",
       "    </tr>\n",
       "    <tr>\n",
       "      <th>2</th>\n",
       "      <td>panorama-des-festivals</td>\n",
       "      <td>01111b5088a3adc7e0035d60c75ca4e38ba35cae</td>\n",
       "      <td>{'dept_sk': 13.0, 'coordonnees_insee': [43.299...</td>\n",
       "      <td>{'type': 'Point', 'coordinates': [5.3822786979...</td>\n",
       "      <td>2019-07-25T13:57:37.191+02:00</td>\n",
       "    </tr>\n",
       "    <tr>\n",
       "      <th>3</th>\n",
       "      <td>panorama-des-festivals</td>\n",
       "      <td>7852d72fc332bed06a81dc800e81c89bcd3d5350</td>\n",
       "      <td>{'dept_sk': 83.0, 'coordonnees_insee': [43.136...</td>\n",
       "      <td>{'type': 'Point', 'coordinates': [5.9323963424...</td>\n",
       "      <td>2019-07-25T13:57:37.191+02:00</td>\n",
       "    </tr>\n",
       "    <tr>\n",
       "      <th>4</th>\n",
       "      <td>panorama-des-festivals</td>\n",
       "      <td>5d117e289064c0d9b2e661bda9d64a9dfd390ffe</td>\n",
       "      <td>{'dept_sk': 13.0, 'coordonnees_insee': [43.293...</td>\n",
       "      <td>{'type': 'Point', 'coordinates': [5.5633127347...</td>\n",
       "      <td>2019-07-25T13:57:37.191+02:00</td>\n",
       "    </tr>\n",
       "  </tbody>\n",
       "</table>\n",
       "</div>"
      ],
      "text/plain": [
       "                datasetid                                  recordid  \\\n",
       "0  panorama-des-festivals  f303af5d382cd97c89f233ae9fa84d8f72a7d0c2   \n",
       "1  panorama-des-festivals  1572da817b780e088c1e81f8da01b5ee16767879   \n",
       "2  panorama-des-festivals  01111b5088a3adc7e0035d60c75ca4e38ba35cae   \n",
       "3  panorama-des-festivals  7852d72fc332bed06a81dc800e81c89bcd3d5350   \n",
       "4  panorama-des-festivals  5d117e289064c0d9b2e661bda9d64a9dfd390ffe   \n",
       "\n",
       "                                              fields  \\\n",
       "0  {'dept_sk': 13.0, 'coordonnees_insee': [43.550...   \n",
       "1  {'dept_sk': 13.0, 'coordonnees_insee': [43.299...   \n",
       "2  {'dept_sk': 13.0, 'coordonnees_insee': [43.299...   \n",
       "3  {'dept_sk': 83.0, 'coordonnees_insee': [43.136...   \n",
       "4  {'dept_sk': 13.0, 'coordonnees_insee': [43.293...   \n",
       "\n",
       "                                            geometry  \\\n",
       "0  {'type': 'Point', 'coordinates': [4.9511813524...   \n",
       "1  {'type': 'Point', 'coordinates': [5.3822786979...   \n",
       "2  {'type': 'Point', 'coordinates': [5.3822786979...   \n",
       "3  {'type': 'Point', 'coordinates': [5.9323963424...   \n",
       "4  {'type': 'Point', 'coordinates': [5.5633127347...   \n",
       "\n",
       "                record_timestamp  \n",
       "0  2019-07-25T13:57:37.191+02:00  \n",
       "1  2019-07-25T13:57:37.191+02:00  \n",
       "2  2019-07-25T13:57:37.191+02:00  \n",
       "3  2019-07-25T13:57:37.191+02:00  \n",
       "4  2019-07-25T13:57:37.191+02:00  "
      ]
     },
     "execution_count": 3,
     "metadata": {},
     "output_type": "execute_result"
    }
   ],
   "source": [
    "df.head()"
   ]
  },
  {
   "cell_type": "code",
   "execution_count": 4,
   "id": "67cb5ad0",
   "metadata": {},
   "outputs": [
    {
     "data": {
      "text/html": [
       "<div>\n",
       "<style scoped>\n",
       "    .dataframe tbody tr th:only-of-type {\n",
       "        vertical-align: middle;\n",
       "    }\n",
       "\n",
       "    .dataframe tbody tr th {\n",
       "        vertical-align: top;\n",
       "    }\n",
       "\n",
       "    .dataframe thead th {\n",
       "        text-align: right;\n",
       "    }\n",
       "</style>\n",
       "<table border=\"1\" class=\"dataframe\">\n",
       "  <thead>\n",
       "    <tr style=\"text-align: right;\">\n",
       "      <th></th>\n",
       "      <th>datasetid</th>\n",
       "      <th>recordid</th>\n",
       "      <th>fields</th>\n",
       "      <th>geometry</th>\n",
       "      <th>record_timestamp</th>\n",
       "    </tr>\n",
       "  </thead>\n",
       "  <tbody>\n",
       "    <tr>\n",
       "      <th>314</th>\n",
       "      <td>panorama-des-festivals</td>\n",
       "      <td>6cd102c34f56e17458f9ea14579b7df3162b14fd</td>\n",
       "      <td>{'dept_sk': 6.0, 'mois_indicatif_en_chiffre_y_...</td>\n",
       "      <td>{'type': 'Point', 'coordinates': [7.1603992644...</td>\n",
       "      <td>2019-07-25T13:57:37.191+02:00</td>\n",
       "    </tr>\n",
       "    <tr>\n",
       "      <th>315</th>\n",
       "      <td>panorama-des-festivals</td>\n",
       "      <td>59e96b316fe143fc7183049b9f1b8bcbea398256</td>\n",
       "      <td>{'dept_sk': 83.0, 'coordonnees_insee': [43.599...</td>\n",
       "      <td>{'type': 'Point', 'coordinates': [6.7898599534...</td>\n",
       "      <td>2019-07-25T13:57:37.191+02:00</td>\n",
       "    </tr>\n",
       "    <tr>\n",
       "      <th>316</th>\n",
       "      <td>panorama-des-festivals</td>\n",
       "      <td>c39e07394c87f62716092bbc941fc803db6cfd90</td>\n",
       "      <td>{'dept_sk': 83.0, 'coordonnees_insee': [43.136...</td>\n",
       "      <td>{'type': 'Point', 'coordinates': [5.9323963424...</td>\n",
       "      <td>2019-07-25T13:57:37.191+02:00</td>\n",
       "    </tr>\n",
       "    <tr>\n",
       "      <th>317</th>\n",
       "      <td>panorama-des-festivals</td>\n",
       "      <td>37b3d56fc0bbe86f073cde555c581865b3a0d888</td>\n",
       "      <td>{'dept_sk': 4.0, 'coordonnees_insee': [43.9599...</td>\n",
       "      <td>{'type': 'Point', 'coordinates': [5.7882827572...</td>\n",
       "      <td>2019-07-25T13:57:37.191+02:00</td>\n",
       "    </tr>\n",
       "    <tr>\n",
       "      <th>318</th>\n",
       "      <td>panorama-des-festivals</td>\n",
       "      <td>9fe99aca95b1d5b76e9745cdff3b12d7ede3657f</td>\n",
       "      <td>{'dept_sk': 13.0, 'coordonnees_insee': [43.546...</td>\n",
       "      <td>{'type': 'Point', 'coordinates': [4.6621564257...</td>\n",
       "      <td>2019-07-25T13:57:37.191+02:00</td>\n",
       "    </tr>\n",
       "  </tbody>\n",
       "</table>\n",
       "</div>"
      ],
      "text/plain": [
       "                  datasetid                                  recordid  \\\n",
       "314  panorama-des-festivals  6cd102c34f56e17458f9ea14579b7df3162b14fd   \n",
       "315  panorama-des-festivals  59e96b316fe143fc7183049b9f1b8bcbea398256   \n",
       "316  panorama-des-festivals  c39e07394c87f62716092bbc941fc803db6cfd90   \n",
       "317  panorama-des-festivals  37b3d56fc0bbe86f073cde555c581865b3a0d888   \n",
       "318  panorama-des-festivals  9fe99aca95b1d5b76e9745cdff3b12d7ede3657f   \n",
       "\n",
       "                                                fields  \\\n",
       "314  {'dept_sk': 6.0, 'mois_indicatif_en_chiffre_y_...   \n",
       "315  {'dept_sk': 83.0, 'coordonnees_insee': [43.599...   \n",
       "316  {'dept_sk': 83.0, 'coordonnees_insee': [43.136...   \n",
       "317  {'dept_sk': 4.0, 'coordonnees_insee': [43.9599...   \n",
       "318  {'dept_sk': 13.0, 'coordonnees_insee': [43.546...   \n",
       "\n",
       "                                              geometry  \\\n",
       "314  {'type': 'Point', 'coordinates': [7.1603992644...   \n",
       "315  {'type': 'Point', 'coordinates': [6.7898599534...   \n",
       "316  {'type': 'Point', 'coordinates': [5.9323963424...   \n",
       "317  {'type': 'Point', 'coordinates': [5.7882827572...   \n",
       "318  {'type': 'Point', 'coordinates': [4.6621564257...   \n",
       "\n",
       "                  record_timestamp  \n",
       "314  2019-07-25T13:57:37.191+02:00  \n",
       "315  2019-07-25T13:57:37.191+02:00  \n",
       "316  2019-07-25T13:57:37.191+02:00  \n",
       "317  2019-07-25T13:57:37.191+02:00  \n",
       "318  2019-07-25T13:57:37.191+02:00  "
      ]
     },
     "execution_count": 4,
     "metadata": {},
     "output_type": "execute_result"
    }
   ],
   "source": [
    "df.tail()"
   ]
  },
  {
   "cell_type": "markdown",
   "id": "91e91867",
   "metadata": {},
   "source": [
    "## 2.2.1 Dis-nous combien il y a de festivals en PACA:"
   ]
  },
  {
   "cell_type": "code",
   "execution_count": 5,
   "id": "bd76c8c8",
   "metadata": {},
   "outputs": [
    {
     "name": "stdout",
     "output_type": "stream",
     "text": [
      "Il y a 319 festivals en PACA\n"
     ]
    }
   ],
   "source": [
    "print(\"Il y a\", df.shape[0], \"festivals en PACA.\")"
   ]
  },
  {
   "cell_type": "code",
   "execution_count": 6,
   "id": "f1357da6",
   "metadata": {},
   "outputs": [],
   "source": [
    "fields_df = pd.Series(df['fields'])"
   ]
  },
  {
   "cell_type": "code",
   "execution_count": 7,
   "id": "2902d409",
   "metadata": {},
   "outputs": [
    {
     "data": {
      "text/plain": [
       "pandas.core.series.Series"
      ]
     },
     "execution_count": 7,
     "metadata": {},
     "output_type": "execute_result"
    }
   ],
   "source": [
    "type(fields_df)"
   ]
  },
  {
   "cell_type": "code",
   "execution_count": 8,
   "id": "d6ecc3d2",
   "metadata": {},
   "outputs": [
    {
     "data": {
      "text/plain": [
       "0    {'dept_sk': 13.0, 'coordonnees_insee': [43.550...\n",
       "1    {'dept_sk': 13.0, 'coordonnees_insee': [43.299...\n",
       "2    {'dept_sk': 13.0, 'coordonnees_insee': [43.299...\n",
       "3    {'dept_sk': 83.0, 'coordonnees_insee': [43.136...\n",
       "4    {'dept_sk': 13.0, 'coordonnees_insee': [43.293...\n",
       "Name: fields, dtype: object"
      ]
     },
     "execution_count": 8,
     "metadata": {},
     "output_type": "execute_result"
    }
   ],
   "source": [
    "fields_df.head()"
   ]
  },
  {
   "cell_type": "code",
   "execution_count": 9,
   "id": "8279ba68",
   "metadata": {},
   "outputs": [
    {
     "data": {
      "text/plain": [
       "{'dept_sk': 13.0,\n",
       " 'coordonnees_insee': [43.5502689105, 4.9511813524],\n",
       " 'date_de_fin_ancien': '2019-02-10',\n",
       " 'mois_indicatif_en_chiffre_y_compris_double_mois': 2.0,\n",
       " 'nom_departement': 'Bouches-du-Rhône',\n",
       " 'departement': '13',\n",
       " 'periodicite': 'Annuelle',\n",
       " 'mois_habituel_de_debut': '02 (février)',\n",
       " 'code_postal': '13118',\n",
       " 'complement_domaine': 'Cirque',\n",
       " 'libelle_commune_pour_calcul_cp_insee': 'ISTRES',\n",
       " 'domaine': 'Cirque et Arts de la rue',\n",
       " 'date_debut_ancien': '2019-02-01',\n",
       " 'code_insee': '13047',\n",
       " 'commune_principale': 'ISTRES',\n",
       " 'region': \"Provence-Alpes-Côte d'Azur\",\n",
       " 'nom_de_la_manifestation': 'Les Élancées, festival des arts du geste',\n",
       " 'ndeg_identification': 'MM007',\n",
       " 'site_web': 'http://www.scenesetcines.fr/',\n",
       " 'date_de_creation': '1999-01-01',\n",
       " 'check_edition': 0.0,\n",
       " 'ndeg_de_l_edition_2018': 20.0,\n",
       " 'ndeg_de_l_edition_2019': 21.0}"
      ]
     },
     "execution_count": 9,
     "metadata": {},
     "output_type": "execute_result"
    }
   ],
   "source": [
    "fields_df[0]"
   ]
  },
  {
   "cell_type": "markdown",
   "id": "9c3f3984",
   "metadata": {},
   "source": [
    "## 2.2.2 - 3 villes qui acceuillent le plus de festivals? "
   ]
  },
  {
   "cell_type": "code",
   "execution_count": 14,
   "id": "e312fb89",
   "metadata": {},
   "outputs": [
    {
     "name": "stdout",
     "output_type": "stream",
     "text": [
      "MARSEILLE                   56\n",
      "CANNES                      17\n",
      "AVIGNON                     16\n",
      "AIX EN PROVENCE             15\n",
      "ARLES                       12\n",
      "                            ..\n",
      "Tourtour                     1\n",
      "ENTRAIGUES SUR LA SORGUE     1\n",
      "La Tour d Aigues             1\n",
      "PORQUEROLLES                 1\n",
      "FORCALQUIER                  1\n",
      "Name: commune_principale, Length: 127, dtype: int64\n"
     ]
    }
   ],
   "source": [
    "fields_df = pd.DataFrame(df['fields'].values.tolist(), index=df.index)\n",
    "result = fields_df['commune_principale'].value_counts()\n",
    "print(result)"
   ]
  },
  {
   "cell_type": "code",
   "execution_count": 25,
   "id": "f4aeb2e4",
   "metadata": {},
   "outputs": [
    {
     "name": "stdout",
     "output_type": "stream",
     "text": [
      "The top 3 cities are:\n",
      " MARSEILLE    56\n",
      "CANNES       17\n",
      "AVIGNON      16\n"
     ]
    }
   ],
   "source": [
    "print(\"The top 3 cities are:\\n\",result.head(3).to_string(),)"
   ]
  },
  {
   "cell_type": "markdown",
   "id": "6ff46940",
   "metadata": {},
   "source": [
    "## 2.2.3 - mois de l'année le plus chargé en festivals? "
   ]
  },
  {
   "cell_type": "code",
   "execution_count": 26,
   "id": "6b5e344b",
   "metadata": {},
   "outputs": [
    {
     "name": "stdout",
     "output_type": "stream",
     "text": [
      "2018-07-19    11\n",
      "2018-07-07     7\n",
      "2018-08-03     6\n",
      "2018-07-06     6\n",
      "2018-08-21     4\n",
      "              ..\n",
      "2018-09-12     1\n",
      "2019-04-25     1\n",
      "2019-04-13     1\n",
      "2019-03-15     1\n",
      "2018-12-21     1\n",
      "Name: date_debut_ancien, Length: 157, dtype: int64\n"
     ]
    }
   ],
   "source": [
    "fields_df = pd.DataFrame(df['fields'].values.tolist(), index=df.index)\n",
    "result = fields_df['date_debut_ancien'].value_counts()\n",
    "print(result)"
   ]
  },
  {
   "cell_type": "code",
   "execution_count": null,
   "id": "3eed983d",
   "metadata": {},
   "outputs": [],
   "source": [
    "#OR"
   ]
  },
  {
   "cell_type": "code",
   "execution_count": 27,
   "id": "17bf6290",
   "metadata": {},
   "outputs": [
    {
     "name": "stdout",
     "output_type": "stream",
     "text": [
      "7.0     91\n",
      "6.0     45\n",
      "8.0     37\n",
      "11.0    25\n",
      "5.0     24\n",
      "9.0     24\n",
      "10.0    23\n",
      "4.0     15\n",
      "3.0     12\n",
      "12.0     6\n",
      "2.0      5\n",
      "8.5      2\n",
      "9.5      2\n",
      "6.5      2\n",
      "1.0      2\n",
      "7.5      2\n",
      "Name: mois_indicatif_en_chiffre_y_compris_double_mois, dtype: int64 \n",
      "Les .5 signifient que le festival s'étend sur deux mois.\n",
      "Il faut donc remplacer chacune de ces valeurs par deux lignes.\n",
      "     nom_mois  nb_mois  nb_festivals\n",
      "0     juillet        7            95\n",
      "1        juin        6            47\n",
      "2        août        8            41\n",
      "3   septembre        9            28\n",
      "4     octobre       10            25\n",
      "5    novembre       11            25\n",
      "6         mai        5            24\n",
      "7       avril        4            15\n",
      "8        mars        3            12\n",
      "9    décembre       12             6\n",
      "10    février        2             5\n",
      "11    janvier        1             2\n",
      "Le mois pendant lequel il y a le plus de festivals est donc juillet avec 95 festivals.\n"
     ]
    },
    {
     "name": "stderr",
     "output_type": "stream",
     "text": [
      "/var/folders/f9/t7vfcrs11bgg0vdpl8cmy69w0000gn/T/ipykernel_16823/2154718191.py:6: FutureWarning: The series.append method is deprecated and will be removed from pandas in a future version. Use pandas.concat instead.\n",
      "  top_month = top_month.append(months_to_add, ignore_index=True)\n"
     ]
    }
   ],
   "source": [
    "top_month = fields_df['mois_indicatif_en_chiffre_y_compris_double_mois']\n",
    "print(top_month.value_counts(), \"\\nLes .5 signifient que le festival s'étend sur deux mois.\\nIl faut donc remplacer chacune de ces valeurs par deux lignes.\")\n",
    "\n",
    "months_to_add = pd.Series([6.0, 6.0, 7.0, 7.0, 7.0, 7.0, 8.0, 8.0, 8.0, 8.0, 9.0, 9.0, 9.0, 9.0, 10.0, 10.0])\n",
    "months_to_drop = pd.Series([6.5, 7.5, 8.5, 9.5])\n",
    "top_month = top_month.append(months_to_add, ignore_index=True)\n",
    "top_month = top_month[~top_month.isin(months_to_drop)].astype('Int64').value_counts().to_frame(name=\"nb_festivals\").reset_index(level=0).rename(columns={\"index\": \"nb_mois\"})\n",
    "\n",
    "names_months = {1: \"janvier\", 2: \"février\", 3: \"mars\", 4: \"avril\", 5: \"mai\", 6: \"juin\", 7: \"juillet\", 8: \"août\", 9: \"septembre\", 10: \"octobre\", 11: \"novembre\", 12: \"décembre\"}\n",
    "top_month['nom_mois']= top_month['nb_mois'].map(names_months)\n",
    "cols = top_month.columns.tolist()\n",
    "cols = cols[-1:] + cols[:-1]\n",
    "top_month = top_month[cols]\n",
    "print(top_month)\n",
    "top_month_result = top_month.iloc[0]\n",
    "print(\"Le mois pendant lequel il y a le plus de festivals est donc\", top_month_result[0], \"avec\", top_month_result[-1], \"festivals.\")"
   ]
  },
  {
   "cell_type": "code",
   "execution_count": null,
   "id": "55a574c5",
   "metadata": {},
   "outputs": [],
   "source": []
  },
  {
   "cell_type": "code",
   "execution_count": null,
   "id": "2295eaeb",
   "metadata": {},
   "outputs": [],
   "source": []
  },
  {
   "cell_type": "code",
   "execution_count": null,
   "id": "261ebe0c",
   "metadata": {},
   "outputs": [],
   "source": []
  },
  {
   "cell_type": "code",
   "execution_count": null,
   "id": "da321b63",
   "metadata": {},
   "outputs": [],
   "source": []
  },
  {
   "cell_type": "code",
   "execution_count": null,
   "id": "52ae1a9b",
   "metadata": {},
   "outputs": [],
   "source": []
  },
  {
   "cell_type": "code",
   "execution_count": null,
   "id": "2454b639",
   "metadata": {},
   "outputs": [],
   "source": []
  },
  {
   "cell_type": "code",
   "execution_count": null,
   "id": "8d940bce",
   "metadata": {},
   "outputs": [],
   "source": []
  },
  {
   "cell_type": "code",
   "execution_count": null,
   "id": "4b79e0b6",
   "metadata": {},
   "outputs": [],
   "source": []
  },
  {
   "cell_type": "code",
   "execution_count": null,
   "id": "b719939d",
   "metadata": {},
   "outputs": [],
   "source": []
  },
  {
   "cell_type": "code",
   "execution_count": null,
   "id": "96e172fc",
   "metadata": {},
   "outputs": [],
   "source": []
  },
  {
   "cell_type": "code",
   "execution_count": null,
   "id": "aabadf6a",
   "metadata": {},
   "outputs": [],
   "source": []
  },
  {
   "cell_type": "code",
   "execution_count": null,
   "id": "fb20f6fa",
   "metadata": {},
   "outputs": [],
   "source": []
  },
  {
   "cell_type": "code",
   "execution_count": null,
   "id": "068cf1be",
   "metadata": {},
   "outputs": [],
   "source": []
  },
  {
   "cell_type": "code",
   "execution_count": null,
   "id": "a3fd0a04",
   "metadata": {},
   "outputs": [],
   "source": []
  },
  {
   "cell_type": "code",
   "execution_count": null,
   "id": "f0dd4143",
   "metadata": {},
   "outputs": [],
   "source": []
  },
  {
   "cell_type": "code",
   "execution_count": null,
   "id": "335d8c98",
   "metadata": {},
   "outputs": [],
   "source": []
  },
  {
   "cell_type": "code",
   "execution_count": null,
   "id": "95f5ca2f",
   "metadata": {},
   "outputs": [],
   "source": []
  },
  {
   "cell_type": "code",
   "execution_count": null,
   "id": "111bdd50",
   "metadata": {},
   "outputs": [],
   "source": []
  },
  {
   "cell_type": "code",
   "execution_count": null,
   "id": "15f614e6",
   "metadata": {},
   "outputs": [],
   "source": []
  },
  {
   "cell_type": "code",
   "execution_count": null,
   "id": "cbc7e557",
   "metadata": {},
   "outputs": [],
   "source": []
  },
  {
   "cell_type": "code",
   "execution_count": null,
   "id": "55f53bf4",
   "metadata": {},
   "outputs": [],
   "source": []
  },
  {
   "cell_type": "code",
   "execution_count": null,
   "id": "bde6c7af",
   "metadata": {},
   "outputs": [],
   "source": []
  },
  {
   "cell_type": "code",
   "execution_count": null,
   "id": "416b1fd9",
   "metadata": {},
   "outputs": [],
   "source": []
  },
  {
   "cell_type": "code",
   "execution_count": null,
   "id": "08f51194",
   "metadata": {},
   "outputs": [],
   "source": []
  },
  {
   "cell_type": "code",
   "execution_count": null,
   "id": "5d5e1747",
   "metadata": {},
   "outputs": [],
   "source": []
  }
 ],
 "metadata": {
  "kernelspec": {
   "display_name": "Python 3 (ipykernel)",
   "language": "python",
   "name": "python3"
  },
  "language_info": {
   "codemirror_mode": {
    "name": "ipython",
    "version": 3
   },
   "file_extension": ".py",
   "mimetype": "text/x-python",
   "name": "python",
   "nbconvert_exporter": "python",
   "pygments_lexer": "ipython3",
   "version": "3.9.12"
  }
 },
 "nbformat": 4,
 "nbformat_minor": 5
}
